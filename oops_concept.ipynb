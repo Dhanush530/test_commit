{
 "cells": [
  {
   "cell_type": "code",
   "execution_count": 1,
   "id": "0a45fe88",
   "metadata": {},
   "outputs": [
    {
     "name": "stdout",
     "output_type": "stream",
     "text": [
      "[automobiles('Swift',hatchback,25,80), automobiles('Alto-800',hatchback,20,85), automobiles('Baleno',hatchback,30,85), automobiles('Nexon',Mini-SUV,25,85), automobiles('Alto',hatchback,20,85)]\n",
      "\n",
      "Swift\n",
      "Alto-800\n",
      "Baleno\n",
      "Nexon\n",
      "Alto\n",
      "\n"
     ]
    }
   ],
   "source": [
    "class automobiles:\n",
    "    #class attribute\n",
    "    pay_rate = 0.8\n",
    "    \n",
    "    all = []\n",
    "    \n",
    "        #constructor   parameters            \n",
    "    def __init__(self,name,form,mileage,effeciency):\n",
    "        \n",
    "        assert mileage >= 0, f\"mileage {mileage} is not equal to or greater than zero\"\n",
    "        assert effeciency >= 0, f\"effeciency {effeciency} is not equal to or greater than zero\"\n",
    "        \n",
    "        self.name = name  #variable\n",
    "        self.form = form  #variable\n",
    "        self.mileage = mileage  #variable\n",
    "        self.effeciency = effeciency #variable\n",
    "        \n",
    "        automobiles.all.append(self)\n",
    "        \n",
    "    def vfm(self): #instance method\n",
    "        return self.mileage * self.effeciency / 100\n",
    "    \n",
    "    def discount(self):\n",
    "        self.mileage = self.mileage * self.pay_rate\n",
    "        \n",
    "    def __repr__(self): #magic_method\n",
    "        return f\"automobiles('{self.name}',{self.form},{self.mileage},{self.effeciency})\"\n",
    "    \n",
    "#object of class    \n",
    "a1 = automobiles('Swift','hatchback',25,80)\n",
    "a2 = automobiles('Alto-800','hatchback',20,85)\n",
    "a3 = automobiles('Baleno','hatchback',30,85)\n",
    "a4 = automobiles('Nexon','Mini-SUV',25,85)\n",
    "a5 = automobiles('Alto','hatchback',20,85)\n",
    "\n",
    "print(automobiles.all)\n",
    "print()\n",
    "\n",
    "for instance in automobiles.all:\n",
    "    print(instance.name)\n",
    "\n",
    "print()"
   ]
  },
  {
   "cell_type": "code",
   "execution_count": null,
   "id": "49ca964a",
   "metadata": {},
   "outputs": [],
   "source": []
  }
 ],
 "metadata": {
  "kernelspec": {
   "display_name": "Python 3 (ipykernel)",
   "language": "python",
   "name": "python3"
  },
  "language_info": {
   "codemirror_mode": {
    "name": "ipython",
    "version": 3
   },
   "file_extension": ".py",
   "mimetype": "text/x-python",
   "name": "python",
   "nbconvert_exporter": "python",
   "pygments_lexer": "ipython3",
   "version": "3.9.7"
  }
 },
 "nbformat": 4,
 "nbformat_minor": 5
}
